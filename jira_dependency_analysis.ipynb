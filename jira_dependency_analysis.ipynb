{
  "nbformat": 4,
  "nbformat_minor": 5,
  "metadata": {
    "noteable-chatgpt": {
      "create_notebook": {
        "openai_conversation_id": "6ba4112b-b6a0-56d2-9e2f-224584aea1a3",
        "openai_ephemeral_user_id": "b8909600-9d11-50f9-83e3-68e6656ddf28"
      }
    },
    "noteable": {
      "last_transaction_id": "de58cb7b-17fc-4082-ad8f-b20ab514c3e8"
    },
    "selected_hardware_size": "small",
    "display_mode": "fullwidth"
  },
  "cells": [
    {
      "id": "5d05a848-f02c-49b9-bc26-e9e2dc401511",
      "cell_type": "markdown",
      "source": "# A9 Jira Dependency Analysis Notebook\n\nThis project provides a comprehensive analysis of Common Vulnerabilities and Exposures (CVEs) in the context of Jira data center dependencies. It not only aids in identifying and mitigating potential security risks but also serves as a valuable tool for performance optimization, cloud migration planning, and general exploration.\n\n## Security Perspective\n\nBy analyzing CVEs, we can identify potential vulnerabilities in the packages that Jira data center depends on. This allows us to proactively address these vulnerabilities, thereby enhancing the security posture of our Jira instance.\n\n## Performance Optimization\n\nUnderstanding the dependencies of our Jira instance can help us identify potential bottlenecks or performance issues. For example, if a particular package that Jira depends on is known to have performance issues, we can look for alternatives or ways to optimize its usage.\n\n## Cloud Migration Planning\n\nWhen planning a migration to the cloud, it's important to understand the dependencies of our existing system. This analysis can help us identify which packages are actively being developed and maintained, and which ones might pose a risk in a cloud environment. This can inform our migration strategy and help ensure a smooth transition to the cloud and what known complexities we trade for unknown complexities with SaaS services. \n\n## Curiosity and Learning\n\nBeyond the practical applications, this analysis can also satisfy our curiosity and desire to learn more about the inner workings of our Jira instance. By exploring the dependencies and associated CVEs, we can gain a deeper understanding of the system and how it operates.",
      "metadata": {
        "noteable": {
          "cell_type": "markdown"
        }
      }
    },
    {
      "id": "700a2e82-76c0-47f9-a20e-002744e6b293",
      "cell_type": "markdown",
      "source": "\n![https://a9group.net/a9logo.png](https://a9group.net/a9logo.png)\n\nIn the case of Jira, the large number of dependencies means that changes to one component can potentially impact many others. This can make updates and bug fixes more challenging and time-consuming, leading to slower development cycles and increased maintenance costs.\n\nIn our analysis, we used Python and various data science tools to build and visualize Jira's dependency graph. This provided valuable insights into the software's complexity and highlighted areas for potential optimization.\n\n",
      "metadata": {
        "noteable": {
          "cell_type": "markdown"
        }
      }
    },
    {
      "id": "aebb6214-fa0e-4b34-8d6e-e5f628f5ff7f",
      "cell_type": "code",
      "metadata": {
        "noteable": {
          "cell_type": "code",
          "output_collection_id": "5621d829-378c-472a-ae8f-ee05cf4e0020"
        },
        "ExecuteTime": {
          "end_time": "2023-07-07T20:24:25.893485+00:00",
          "start_time": "2023-07-07T20:24:25.737464+00:00"
        }
      },
      "execution_count": null,
      "source": "# Define the base URL for the Maven repository\nbase_url = 'https://packages.atlassian.com/repository/public/'",
      "outputs": []
    },
    {
      "id": "b84d1278-2ac0-401a-84ed-352f152af04b",
      "cell_type": "code",
      "metadata": {
        "noteable": {
          "cell_type": "code",
          "output_collection_id": "d5565abc-9375-42f8-96be-62ca0320195d"
        },
        "ExecuteTime": {
          "end_time": "2023-07-07T20:24:27.846475+00:00",
          "start_time": "2023-07-07T20:24:27.689856+00:00"
        }
      },
      "execution_count": null,
      "source": "import requests\nfrom bs4 import BeautifulSoup\nimport networkx as nx\n\n",
      "outputs": []
    },
    {
      "id": "dc548122-3d9d-47c9-b367-918fe7ce99a8",
      "cell_type": "markdown",
      "source": "## Define POM location",
      "metadata": {
        "noteable": {
          "cell_type": "markdown"
        }
      }
    },
    {
      "id": "f47a9763-2a05-4c51-b476-abdd5a23d1b5",
      "cell_type": "code",
      "metadata": {
        "noteable": {
          "cell_type": "code",
          "output_collection_id": "1eb734c5-bd15-4f44-9844-de0629d62958"
        },
        "ExecuteTime": {
          "end_time": "2023-07-07T20:24:29.560705+00:00",
          "start_time": "2023-07-07T20:24:29.403027+00:00"
        }
      },
      "execution_count": null,
      "source": "# Define the URL of the Jira Core POM file\njira_core_pom_url = 'https://packages.atlassian.com/repository/public/com/atlassian/jira/jira-core/9.9.0-QR-20230330081425/jira-core-9.9.0-QR-20230330081425.pom'\n",
      "outputs": []
    },
    {
      "id": "763ed374-9a04-480c-a165-0e9a62b60c70",
      "cell_type": "code",
      "metadata": {
        "noteable": {
          "cell_type": "code",
          "output_collection_id": "77733d30-2800-4c86-87a8-8233b1c4e354"
        },
        "ExecuteTime": {
          "end_time": "2023-07-07T20:24:31.889946+00:00",
          "start_time": "2023-07-07T20:24:31.727256+00:00"
        }
      },
      "execution_count": null,
      "source": "def parse_pom(url):\n    print(f'Parsing POM file at {url}')\n\n    # Send a GET request to the URL\n    response = requests.get(url)\n\n    # Parse the response content with BeautifulSoup\n    soup = BeautifulSoup(response.content, 'xml')\n\n    # Extract the group ID, artifact ID, and version\n    group_id = soup.find('groupId')\n    artifact_id = soup.find('artifactId')\n    version = soup.find('version')\n\n    if group_id is not None:\n        group_id = group_id.text\n    else:\n        print('Group ID not found')\n    if artifact_id is not None:\n        artifact_id = artifact_id.text\n    else:\n        print('Artifact ID not found')\n    if version is not None:\n        version = version.text\n    else:\n        print('Version not found')\n\n    # Extract the dependencies\n    dependencies = []\n    for dependency in soup.find_all('dependency'):\n        dep_group_id = dependency.find('groupId')\n        dep_artifact_id = dependency.find('artifactId')\n        dep_version = dependency.find('version')\n        if dep_group_id is not None and dep_artifact_id is not None and dep_version is not None:\n            dependencies.append((dep_group_id.text, dep_artifact_id.text, dep_version.text))\n\n    # Return the parsed data\n    data = {\n        'group_id': group_id,\n        'artifact_id': artifact_id,\n        'version': version,\n        'dependencies': dependencies\n    }\n    print(f'Parsed data: {data}')\n    return data",
      "outputs": []
    },
    {
      "id": "a36d0812-f9c1-4f72-88cd-6957def5032a",
      "cell_type": "code",
      "metadata": {
        "noteable": {
          "cell_type": "code",
          "output_collection_id": "323d851a-6557-44da-9bd0-637914498463"
        },
        "ExecuteTime": {
          "end_time": "2023-07-07T20:24:33.581761+00:00",
          "start_time": "2023-07-07T20:24:33.424676+00:00"
        }
      },
      "execution_count": null,
      "source": "def construct_pom_url(group_id, artifact_id, version):\n    # Convert the group ID to a path\n    group_path = group_id.replace('.', '/')\n\n    # Construct the URL\n    url = f'{base_url}/{group_path}/{artifact_id}/{version}/{artifact_id}-{version}.pom'\n    print(url)\n    return url\n\n",
      "outputs": []
    },
    {
      "id": "84d40e44-1206-4b02-82d5-ff523c0e5a7c",
      "cell_type": "markdown",
      "source": "## Build a shallow graph - max_depth=3",
      "metadata": {
        "noteable": {
          "cell_type": "markdown"
        }
      }
    },
    {
      "id": "75c05ec3-1b70-4d89-bcc1-0eebb49c0d58",
      "cell_type": "code",
      "metadata": {
        "noteable": {
          "cell_type": "code",
          "output_collection_id": "e2b20e4f-c170-4801-bf36-38433f051003"
        },
        "ExecuteTime": {
          "end_time": "2023-07-07T20:24:35.222036+00:00",
          "start_time": "2023-07-07T20:24:35.060884+00:00"
        }
      },
      "execution_count": null,
      "source": "def build_dependency_graph(url, graph=None, processed=None, depth=0, max_depth=3):\n    # Initialize the graph and processed set if not provided\n    if graph is None:\n        graph = nx.DiGraph()\n    if processed is None:\n        processed = set()\n\n    # Parse the POM file\n    data = parse_pom(url)\n\n    # Add the artifact to the graph and processed set\n    artifact = (data['group_id'], data['artifact_id'], data['version'])\n    graph.add_node(artifact)\n    processed.add(artifact)\n\n    # Recursively process the dependencies\n    if depth < max_depth:\n        for dep_group_id, dep_artifact_id, dep_version in data['dependencies']:\n            # Skip dependencies that contain placeholders in their group ID, artifact ID, or version\n            if '${' in dep_group_id or '${' in dep_artifact_id or '${' in dep_version:\n                continue\n\n            # Construct the URL for the dependency POM file\n            dep_url = construct_pom_url(dep_group_id, dep_artifact_id, dep_version)\n\n            # Add the dependency to the graph\n            dependency = (dep_group_id, dep_artifact_id, dep_version)\n            graph.add_edge(artifact, dependency)\n\n            # Recursively process the dependency if it hasn't been processed yet\n            if dependency not in processed:\n                build_dependency_graph(dep_url, graph, processed, depth + 1, max_depth)\n\n    return graph",
      "outputs": []
    },
    {
      "id": "a34fbc91-97ad-4a13-81e0-0c7ea43ac307",
      "cell_type": "code",
      "metadata": {
        "noteable": {
          "cell_type": "code",
          "output_collection_id": "32de64e2-df7e-450a-b3ef-dc008d81646d"
        },
        "ExecuteTime": {
          "end_time": "2023-07-07T20:25:01.923378+00:00",
          "start_time": "2023-07-07T20:24:36.965415+00:00"
        },
        "scrolled": false
      },
      "execution_count": null,
      "source": "# Build the dependency graph for the Jira API artifact\njira_core_graph = build_dependency_graph(jira_core_pom_url, max_depth=5)\n\n# Print the number of nodes and edges in the graph\nprint(f'Number of nodes: {jira_core_graph.number_of_nodes()}')\nprint(f'Number of edges: {jira_core_graph.number_of_edges()}')",
      "outputs": []
    },
    {
      "id": "f6b6bfe3-140c-4f79-ba64-dd5434c6eee6",
      "cell_type": "markdown",
      "source": "# Output the full GraphML file\n\nfind it in jira_core_graph.graphml\n",
      "metadata": {
        "noteable": {
          "cell_type": "markdown"
        }
      }
    },
    {
      "id": "438d5766-06a5-4902-95c6-0f2b35c1bd37",
      "cell_type": "code",
      "metadata": {
        "noteable": {
          "cell_type": "code",
          "output_collection_id": "a6c58744-8d85-41a9-9aa3-08385550e869"
        },
        "ExecuteTime": {
          "end_time": "2023-07-07T20:46:43.073686+00:00",
          "start_time": "2023-07-07T20:46:42.528575+00:00"
        }
      },
      "execution_count": null,
      "source": "# Export the graph to a GraphML file\nnx.write_graphml(jira_core_graph, 'jira_core_graph.graphml')",
      "outputs": []
    },
    {
      "id": "04d57d58-19e3-41ce-ba64-8368fd1cfb7b",
      "cell_type": "code",
      "metadata": {
        "noteable": {
          "cell_type": "code",
          "output_collection_id": "87654a8f-dc20-48f7-a5c1-992eaa229b10"
        },
        "ExecuteTime": {
          "end_time": "2023-07-07T20:25:06.949838+00:00",
          "start_time": "2023-07-07T20:25:06.791890+00:00"
        }
      },
      "execution_count": null,
      "source": "def construct_pom_url(group_id, artifact_id, version):\n    # Replace dots in the group ID with slashes\n    group_id_path = group_id.replace('.', '/')\n\n    # Construct the URL\n    url = f'https://packages.atlassian.com/repository/public/{group_id_path}/{artifact_id}/{version}/{artifact_id}-{version}.pom'\n\n    return url",
      "outputs": []
    },
    {
      "id": "38055f2d-6a20-436a-b020-5b8d84ebf21d",
      "cell_type": "code",
      "metadata": {
        "noteable": {
          "cell_type": "code",
          "output_collection_id": "024c15f1-2330-4959-9511-fd652712ff43"
        },
        "ExecuteTime": {
          "end_time": "2023-07-07T20:25:50.591930+00:00",
          "start_time": "2023-07-07T20:25:50.427059+00:00"
        }
      },
      "execution_count": null,
      "source": "import matplotlib.colors as mcolors\n\ndef draw_graph_with_plotly(graph):\n    # Get the positions of the nodes using the spring layout algorithm\n    pos = nx.spring_layout(graph, dim=3, seed=42)\n\n    # Create a trace for the nodes\n    node_trace = go.Scatter3d(\n        x=[pos[i][0] for i in graph.nodes()],\n        y=[pos[i][1] for i in graph.nodes()],\n        z=[pos[i][2] for i in graph.nodes()],\n        mode='markers',\n        marker=dict(size=6)\n    )\n\n    # Create a trace for each edge\n    edge_traces = []\n    for edge in graph.edges():\n        x = np.array([pos[edge[0]][0], pos[edge[1]][0], None])\n        y = np.array([pos[edge[0]][1], pos[edge[1]][1], None])\n        z = np.array([pos[edge[0]][2], pos[edge[1]][2], None])\n        color = '#' + mcolors.to_hex(np.random.rand(3)).replace('#', '')\n        trace = go.Scatter3d(\n            x=x,\n            y=y,\n            z=z,\n            mode='lines',\n            line=dict(color=color, width=2)\n        )\n        edge_traces.append(trace)\n\n    # Create the layout\n    layout = go.Layout(showlegend=False)\n\n    # Create the figure and add the traces\n    fig = go.Figure(data=[node_trace] + edge_traces, layout=layout)\n\n    # Show the figure\n    iplot(fig)\n\n",
      "outputs": []
    },
    {
      "id": "f02b532e-b25d-4640-a83f-9cec2191d966",
      "cell_type": "markdown",
      "source": "## Generate a shallow graph",
      "metadata": {
        "noteable": {
          "cell_type": "markdown"
        }
      }
    },
    {
      "id": "a921f356-0872-4ab6-b43a-11f5c0565eb8",
      "cell_type": "code",
      "metadata": {
        "noteable": {
          "cell_type": "code",
          "output_collection_id": "d8229380-7fc6-48e9-aecf-d1c2cd3e122b"
        },
        "ExecuteTime": {
          "end_time": "2023-07-07T20:28:54.520809+00:00",
          "start_time": "2023-07-07T20:28:53.159559+00:00"
        }
      },
      "execution_count": null,
      "source": "from plotly.offline import iplot\nimport plotly.graph_objects as go\n\n\ndraw_graph_with_plotly(jira_core_graph)",
      "outputs": []
    },
    {
      "id": "0877d576-3e30-4a5d-b5e9-dca07e192378",
      "cell_type": "markdown",
      "source": "## Write a [gpickle file](https://networkx.org/documentation/networkx-2.5/reference/readwrite/generated/networkx.readwrite.gpickle.read_gpickle.html)",
      "metadata": {
        "noteable": {
          "cell_type": "markdown"
        }
      }
    },
    {
      "id": "c5bc2cd0-e128-4182-a9dc-b09f0776e46c",
      "cell_type": "code",
      "metadata": {
        "noteable": {
          "cell_type": "code",
          "output_collection_id": "923ad2f2-10f1-454f-ac17-2d04e5c50506"
        },
        "ExecuteTime": {
          "end_time": "2023-07-07T20:29:10.427171+00:00",
          "start_time": "2023-07-07T20:29:10.266301+00:00"
        }
      },
      "execution_count": null,
      "source": "import networkx as nx\n\n# Save the full graph to a file\nnx.write_gpickle(jira_core_graph, 'jira_core_graph.gpickle')",
      "outputs": []
    },
    {
      "id": "e7da13c0-c01c-484a-bde8-e63618e529f8",
      "cell_type": "code",
      "metadata": {
        "noteable": {
          "cell_type": "code",
          "output_collection_id": "306492a7-ddbc-4891-86d3-422e84ca6866"
        },
        "ExecuteTime": {
          "end_time": "2023-07-07T20:48:54.559969+00:00",
          "start_time": "2023-07-07T20:48:54.383552+00:00"
        },
        "scrolled": false
      },
      "execution_count": null,
      "source": "# Build the dependency graph for the Jira Core artifact with a higher recursion depth\njira_core_graph_small = build_dependency_graph(jira_core_pom_url, max_depth=10)\n\n# Print the number of nodes and edges in the graph\nprint(f'Number of nodes: {jira_core_graph_small.number_of_nodes()}')\nprint(f'Number of edges: {jira_core_graph_small.number_of_edges()}')",
      "outputs": []
    },
    {
      "id": "243eb347-bdf7-4f39-9702-234e32b1fc75",
      "cell_type": "code",
      "metadata": {
        "noteable": {
          "cell_type": "code",
          "output_collection_id": "5f3e63ce-c016-4e6c-a063-0bc6ac5b2fe7"
        },
        "ExecuteTime": {
          "end_time": "2023-07-07T20:32:31.751476+00:00",
          "start_time": "2023-07-07T20:32:24.827651+00:00"
        }
      },
      "execution_count": null,
      "source": "def draw_graph_with_plotly(graph):\n    # Get the positions of the nodes using the spring layout algorithm\n    pos = nx.spring_layout(graph, dim=3, seed=42)\n\n    # Create a trace for the nodes\n    node_trace = go.Scatter3d(\n        x=[pos[i][0] for i in graph.nodes()],\n        y=[pos[i][1] for i in graph.nodes()],\n        z=[pos[i][2] for i in graph.nodes()],\n        mode='markers',\n        marker=dict(size=6),\n        text=[f'{i[0]}:{i[1]}:{i[2]}' for i in graph.nodes()],  # Add hover text\n        hoverinfo='text'\n    )\n\n    # Create a trace for each edge\n    edge_traces = []\n    for edge in graph.edges():\n        x = np.array([pos[edge[0]][0], pos[edge[1]][0], None])\n        y = np.array([pos[edge[0]][1], pos[edge[1]][1], None])\n        z = np.array([pos[edge[0]][2], pos[edge[1]][2], None])\n        color = '#' + mcolors.to_hex(np.random.rand(3)).replace('#', '')\n        trace = go.Scatter3d(\n            x=x,\n            y=y,\n            z=z,\n            mode='lines',\n            line=dict(color=color, width=2)\n        )\n        edge_traces.append(trace)\n\n    # Create the layout\n    layout = go.Layout(\n        showlegend=False,\n        autosize=False,\n        width=1000,\n        height=800\n    )\n\n    # Create the figure and add the traces\n    fig = go.Figure(data=[node_trace] + edge_traces, layout=layout)\n\n    # Show the figure\n    iplot(fig)\n\ndraw_graph_with_plotly(jira_core_graph_small)",
      "outputs": []
    },
    {
      "id": "9e94efdc-4734-48dc-9511-b95e49bf96fa",
      "cell_type": "markdown",
      "source": "# CVE Analysis\n",
      "metadata": {
        "noteable": {
          "cell_type": "markdown"
        }
      }
    },
    {
      "id": "8507c24b-d13c-40c4-b488-9d08ce17f940",
      "cell_type": "code",
      "metadata": {
        "noteable": {
          "cell_type": "code",
          "output_collection_id": "293dc82b-21eb-46d9-b6a7-80b8a6109a04"
        },
        "ExecuteTime": null,
        "datalink": {
          "1e6370b6-bdd2-49d6-8db9-ba73a518ba0c": {
            "applied_filters": [],
            "dataframe_info": {
              "default_index_used": true,
              "orig_num_cols": 4,
              "orig_num_rows": 0,
              "orig_size_bytes": 0,
              "truncated_num_cols": 4,
              "truncated_num_rows": 0,
              "truncated_size_bytes": 0,
              "truncated_string_columns": []
            },
            "display_id": "1e6370b6-bdd2-49d6-8db9-ba73a518ba0c",
            "dx_settings": {
              "ALLOW_NOTEABLE_ATTRS": true,
              "COLUMN_SAMPLING_METHOD": "outer",
              "DB_LOCATION": ":memory:",
              "DEV_MODE": false,
              "DISPLAY_MAX_COLUMNS": 100,
              "DISPLAY_MAX_ROWS": 50000,
              "DISPLAY_MODE": "simple",
              "ENABLE_ASSIGNMENT": true,
              "ENABLE_DATALINK": true,
              "FLATTEN_COLUMN_VALUES": true,
              "FLATTEN_INDEX_VALUES": false,
              "GENERATE_DEX_METADATA": false,
              "HTML_TABLE_SCHEMA": false,
              "LOG_LEVEL": 30,
              "MAX_RENDER_SIZE_BYTES": 104857600,
              "MAX_STRING_LENGTH": 250,
              "NUM_PAST_SAMPLES_TRACKED": 3,
              "RANDOM_STATE": 12648430,
              "RESET_INDEX_VALUES": false,
              "ROW_SAMPLING_METHOD": "random",
              "SAMPLING_FACTOR": 0.1,
              "SAMPLING_METHOD": "random",
              "STRINGIFY_COLUMN_VALUES": true,
              "STRINGIFY_INDEX_VALUES": false
            },
            "sample_history": [],
            "sampling_time": "2023-07-07T20:33:06.232210",
            "user_variable_name": "filtered_cve_info",
            "variable_name": "filtered_cve_info"
          }
        }
      },
      "execution_count": null,
      "source": "import requests\nimport json\nimport os\nimport gzip\nimport pandas as pd\n\n# URLs for the recent and modified CVE data feeds\nrecent_feed_url = 'https://nvd.nist.gov/feeds/json/cve/1.1/nvdcve-1.1-recent.json.gz'\nprint(f\"Downloading recent CVE feed from {cve_feed_url}...\")\nmodified_feed_url = 'https://nvd.nist.gov/feeds/json/cve/1.1/nvdcve-1.1-modified.json.gz'\nprint(f\"Downloading modified CVE feed from {modified_feed_url}...\")\n\n# Download the recent feed\nrecent_feed_response = requests.get(recent_feed_url)\nwith open('recent_cve_feed.json.gz', 'wb') as f:\n    f.write(recent_feed_response.content)\n\n# Download the modified feed\nmodified_feed_response = requests.get(modified_feed_url)\nwith open('modified_cve_feed.json.gz', 'wb') as f:\n    f.write(modified_feed_response.content)\n\n# Check if the files were downloaded successfully\nos.listdir()\n\n# Function to load CVE data from a gzipped JSON file\ndef load_cve_data(filename):\n    with gzip.open(filename, 'rb') as f:\n        cve_data = json.load(f)\n    return cve_data\n\n# Load the recent and modified CVE data\nrecent_cve_data = load_cve_data('recent_cve_feed.json.gz')\nmodified_cve_data = load_cve_data('modified_cve_feed.json.gz')\n\n# Check the number of CVEs in each dataset\nlen(recent_cve_data['CVE_Items']), len(modified_cve_data['CVE_Items'])\n\n# Function to extract CVE information from the data\ndef extract_cve_info(cve_data):\n    cve_info = []\n    for item in cve_data['CVE_Items']:\n        cve_id = item['cve']['CVE_data_meta']['ID']\n        description = item['cve']['description']['description_data'][0]['value']\n        severity = item['impact']['baseMetricV3']['cvssV3']['baseSeverity'] if 'baseMetricV3' in item['impact'] else None\n        affected_packages = [node['cpe_match'][0]['cpe23Uri'] for node in item['configurations']['nodes'] if 'cpe_match' in node and len(node['cpe_match']) > 0]\n        cve_info.append((cve_id, description, severity, affected_packages))\n    return pd.DataFrame(cve_info, columns=['CVE_ID', 'Description', 'Severity', 'Affected_Packages'])\n\n",
      "outputs": []
    },
    {
      "id": "507404b2-4035-4af0-8a26-1b5d5e4f29b1",
      "cell_type": "markdown",
      "source": "# CVEs discovered in the reference POM:\n",
      "metadata": {
        "noteable": {
          "cell_type": "markdown"
        }
      }
    },
    {
      "id": "26ee314f-24d3-49ac-92af-29a613262e0d",
      "cell_type": "code",
      "metadata": {
        "jupyter": {
          "outputs_hidden": false,
          "source_hidden": true
        },
        "noteable": {
          "cell_type": "code",
          "output_collection_id": "bdc0e4be-ed2f-4c43-9c6c-d553a68a90b0"
        },
        "ExecuteTime": {
          "end_time": "2023-07-07T20:36:27.599707+00:00",
          "start_time": "2023-07-07T20:36:27.317137+00:00"
        },
        "datalink": {
          "5315635f-05bc-4999-ace8-59b13eb6fc36": {
            "applied_filters": [],
            "dataframe_info": {
              "default_index_used": true,
              "orig_num_cols": 4,
              "orig_num_rows": 0,
              "orig_size_bytes": 0,
              "truncated_num_cols": 4,
              "truncated_num_rows": 0,
              "truncated_size_bytes": 0,
              "truncated_string_columns": []
            },
            "display_id": "5315635f-05bc-4999-ace8-59b13eb6fc36",
            "dx_settings": {
              "ALLOW_NOTEABLE_ATTRS": true,
              "COLUMN_SAMPLING_METHOD": "outer",
              "DB_LOCATION": ":memory:",
              "DEV_MODE": false,
              "DISPLAY_MAX_COLUMNS": 100,
              "DISPLAY_MAX_ROWS": 50000,
              "DISPLAY_MODE": "simple",
              "ENABLE_ASSIGNMENT": true,
              "ENABLE_DATALINK": true,
              "FLATTEN_COLUMN_VALUES": true,
              "FLATTEN_INDEX_VALUES": false,
              "GENERATE_DEX_METADATA": false,
              "HTML_TABLE_SCHEMA": false,
              "LOG_LEVEL": 30,
              "MAX_RENDER_SIZE_BYTES": 104857600,
              "MAX_STRING_LENGTH": 250,
              "NUM_PAST_SAMPLES_TRACKED": 3,
              "RANDOM_STATE": 12648430,
              "RESET_INDEX_VALUES": false,
              "ROW_SAMPLING_METHOD": "random",
              "SAMPLING_FACTOR": 0.1,
              "SAMPLING_METHOD": "random",
              "STRINGIFY_COLUMN_VALUES": true,
              "STRINGIFY_INDEX_VALUES": false
            },
            "sample_history": [],
            "sampling_time": "2023-07-07T20:36:27.441889",
            "user_variable_name": "filtered_cve_info",
            "variable_name": "filtered_cve_info"
          }
        },
        "dx": {
          "fieldMetadata": {},
          "simpleTable": true,
          "updated": 1688762415297,
          "views": []
        }
      },
      "execution_count": null,
      "source": "# Extract CVE information from the recent and modified CVE data\nrecent_cve_info = extract_cve_info(recent_cve_data)\nmodified_cve_info = extract_cve_info(modified_cve_data)\n\n# Combine the two dataframes\ncve_info = pd.concat([recent_cve_info, modified_cve_info])\n\n# Display the first few rows of the dataframe\ncve_info.head()\n\n# Extract the list of packages from the dependencies graph\npackages = list(jira_core_graph.nodes)\n\n# Filter the CVE data to include only the packages in the pom file\nfiltered_cve_info = cve_info[cve_info['Affected_Packages'].apply(lambda x: any(pkg in x for pkg in packages))]\n\n# Sort the data by severity and disclosure date\nsorted_cve_info = filtered_cve_info.sort_values(by=['Severity', 'CVE_ID'], ascending=[False, False])\n\n# Display the sorted data\nsorted_cve_info",
      "outputs": []
    },
    {
      "id": "61fed156-82e5-4dbf-b2eb-14db1e228a16",
      "cell_type": "markdown",
      "source": "# Unaffiliated CVEs:\n",
      "metadata": {
        "noteable": {
          "cell_type": "markdown"
        }
      }
    },
    {
      "id": "173f93dd-902d-48bf-b36a-bcb48958e0ac",
      "cell_type": "code",
      "metadata": {
        "noteable": {
          "cell_type": "code",
          "output_collection_id": "02dc527b-6e5a-4a7e-9289-cd26c48f5542"
        },
        "ExecuteTime": {
          "end_time": "2023-07-07T20:41:25.252832+00:00",
          "start_time": "2023-07-07T20:41:24.925712+00:00"
        },
        "datalink": {
          "a21ccdc8-e7f3-4c57-a6d0-c3c364af5a88": {
            "applied_filters": [],
            "dataframe_info": {
              "default_index_used": false,
              "orig_num_cols": 4,
              "orig_num_rows": 2262,
              "orig_size_bytes": 90480,
              "truncated_num_cols": 4,
              "truncated_num_rows": 2262,
              "truncated_size_bytes": 90480,
              "truncated_string_columns": [
                "Description",
                "Affected_Packages"
              ]
            },
            "display_id": "a21ccdc8-e7f3-4c57-a6d0-c3c364af5a88",
            "dx_settings": {
              "ALLOW_NOTEABLE_ATTRS": true,
              "COLUMN_SAMPLING_METHOD": "outer",
              "DB_LOCATION": ":memory:",
              "DEV_MODE": false,
              "DISPLAY_MAX_COLUMNS": 100,
              "DISPLAY_MAX_ROWS": 50000,
              "DISPLAY_MODE": "simple",
              "ENABLE_ASSIGNMENT": true,
              "ENABLE_DATALINK": true,
              "FLATTEN_COLUMN_VALUES": true,
              "FLATTEN_INDEX_VALUES": false,
              "GENERATE_DEX_METADATA": false,
              "HTML_TABLE_SCHEMA": false,
              "LOG_LEVEL": 30,
              "MAX_RENDER_SIZE_BYTES": 104857600,
              "MAX_STRING_LENGTH": 250,
              "NUM_PAST_SAMPLES_TRACKED": 3,
              "RANDOM_STATE": 12648430,
              "RESET_INDEX_VALUES": false,
              "ROW_SAMPLING_METHOD": "random",
              "SAMPLING_FACTOR": 0.1,
              "SAMPLING_METHOD": "random",
              "STRINGIFY_COLUMN_VALUES": true,
              "STRINGIFY_INDEX_VALUES": false
            },
            "sample_history": [],
            "sampling_time": "2023-07-07T20:38:13.437107",
            "user_variable_name": "sorted_unaffiliated_cve_info",
            "variable_name": "sorted_unaffiliated_cve_info"
          },
          "99697680-829e-46e2-a51b-43a94d2f40f3": {
            "applied_filters": [],
            "dataframe_info": {
              "default_index_used": false,
              "orig_num_cols": 4,
              "orig_num_rows": 2262,
              "orig_size_bytes": 90480,
              "truncated_num_cols": 4,
              "truncated_num_rows": 2262,
              "truncated_size_bytes": 90480,
              "truncated_string_columns": [
                "Description",
                "Affected_Packages"
              ]
            },
            "display_id": "99697680-829e-46e2-a51b-43a94d2f40f3",
            "dx_settings": {
              "ALLOW_NOTEABLE_ATTRS": true,
              "COLUMN_SAMPLING_METHOD": "outer",
              "DB_LOCATION": ":memory:",
              "DEV_MODE": false,
              "DISPLAY_MAX_COLUMNS": 100,
              "DISPLAY_MAX_ROWS": 50000,
              "DISPLAY_MODE": "simple",
              "ENABLE_ASSIGNMENT": true,
              "ENABLE_DATALINK": true,
              "FLATTEN_COLUMN_VALUES": true,
              "FLATTEN_INDEX_VALUES": false,
              "GENERATE_DEX_METADATA": false,
              "HTML_TABLE_SCHEMA": false,
              "LOG_LEVEL": 30,
              "MAX_RENDER_SIZE_BYTES": 104857600,
              "MAX_STRING_LENGTH": 250,
              "NUM_PAST_SAMPLES_TRACKED": 3,
              "RANDOM_STATE": 12648430,
              "RESET_INDEX_VALUES": false,
              "ROW_SAMPLING_METHOD": "random",
              "SAMPLING_FACTOR": 0.1,
              "SAMPLING_METHOD": "random",
              "STRINGIFY_COLUMN_VALUES": true,
              "STRINGIFY_INDEX_VALUES": false
            },
            "sample_history": [],
            "sampling_time": "2023-07-07T20:41:25.075261",
            "user_variable_name": "sorted_unaffiliated_cve_info",
            "variable_name": "sorted_unaffiliated_cve_info"
          }
        },
        "dx": {
          "dashboard": {
            "multiViews": []
          },
          "fieldMetadata": {
            "Affected_Packages": {
              "columnPosition": 5,
              "width": 459.34765625
            },
            "CVE_ID": {
              "columnPosition": 2
            },
            "Description": {
              "columnPosition": 3
            },
            "Severity": {
              "columnPosition": 4,
              "sort": "asc"
            },
            "index": {
              "columnPosition": 1
            }
          },
          "simpleTable": true,
          "updated": 1689122347865,
          "views": [
            {
              "annotationRules": [],
              "chart": {},
              "chartMode": "grid",
              "confoRules": [],
              "decoration": {
                "footer": "",
                "subtitle": "",
                "title": "Table"
              },
              "facets": [],
              "filterSettings": {
                "SHOW_FILTER_PANEL": true,
                "filters": []
              },
              "id": "first-view",
              "isDefault": true,
              "type": "public",
              "userID": ""
            },
            {
              "annotationRules": [],
              "chart": {
                "facets": [
                  {
                    "chartMode": "bar",
                    "confoRules": [
                      {
                        "colorOpts": {
                          "color": null,
                          "colorsHash": {
                            "CRITICAL": "#122753",
                            "HIGH": "#b6a756",
                            "LOW": "#b3331d",
                            "MEDIUM": "#005066"
                          },
                          "cond": null,
                          "gradient": null,
                          "max": "",
                          "min": "",
                          "mode": "categorical",
                          "scale": null,
                          "thresholdColors": null,
                          "thresholdValues": null
                        },
                        "columnType": "Dimension",
                        "fieldName": "Severity",
                        "id": "data-prism",
                        "index": 0,
                        "name": ""
                      }
                    ],
                    "faceting": {
                      "barProjection": "vertical",
                      "combinationMode": "AVG",
                      "dim1": "Severity",
                      "labelType": "none",
                      "metric1": "index",
                      "metric3": "none",
                      "proBarMode": "Combined",
                      "secondBarMetric": "none"
                    },
                    "name": "bar",
                    "title": "Combined Bar Chart"
                  },
                  {
                    "chartMode": "summary",
                    "confoRules": [
                      {
                        "colorOpts": {
                          "color": null,
                          "colorsHash": {
                            "CRITICAL": "#122753",
                            "HIGH": "#b6a756",
                            "LOW": "#b3331d",
                            "MEDIUM": "#005066"
                          },
                          "cond": null,
                          "gradient": null,
                          "max": "",
                          "min": "",
                          "mode": "categorical",
                          "scale": null,
                          "thresholdColors": null,
                          "thresholdValues": null
                        },
                        "columnType": "Dimension",
                        "fieldName": "Severity",
                        "id": "data-prism",
                        "index": 0,
                        "name": ""
                      }
                    ],
                    "faceting": {
                      "boxplotOutliers": true,
                      "dim1": "Severity",
                      "metric1": "index",
                      "summaryType": "boxplot"
                    },
                    "name": "summary",
                    "title": "Boxplot w/ Outliers"
                  },
                  {
                    "chartMode": "hierarchy",
                    "confoRules": [
                      {
                        "colorOpts": {
                          "color": null,
                          "colorsHash": {
                            "CRITICAL": "#122753",
                            "HIGH": "#b6a756",
                            "LOW": "#b3331d",
                            "MEDIUM": "#005066"
                          },
                          "cond": null,
                          "gradient": null,
                          "max": "",
                          "min": "",
                          "mode": "categorical",
                          "scale": null,
                          "thresholdColors": null,
                          "thresholdValues": null
                        },
                        "columnType": "Dimension",
                        "fieldName": "Severity",
                        "id": "data-prism",
                        "index": 0,
                        "name": ""
                      }
                    ],
                    "faceting": {
                      "hierarchyType": "treemap",
                      "metric1": "index",
                      "networkLabel": "scaled",
                      "selectedDimensions": [
                        "Severity"
                      ]
                    },
                    "name": "hierarchy",
                    "title": "Treemap"
                  },
                  {
                    "chartMode": "summary",
                    "confoRules": [],
                    "faceting": {
                      "boxplotOutliers": true,
                      "dim1": "CVE_ID",
                      "groupOther": true,
                      "metric1": "index",
                      "summaryBins": 20,
                      "summaryType": "histogram"
                    },
                    "name": "summary",
                    "title": "Histogram"
                  },
                  {
                    "chartMode": "bar",
                    "confoRules": [],
                    "faceting": {
                      "barProjection": "vertical",
                      "combinationMode": "AVG",
                      "dim1": "CVE_ID",
                      "groupOther": true,
                      "labelType": "none",
                      "metric1": "index",
                      "proBarMode": "Combined",
                      "secondBarMetric": "none",
                      "sortColumnsBy": "desc-val"
                    },
                    "name": "bar",
                    "title": "Long Tail Bar Chart"
                  },
                  {
                    "chartMode": "wordcloud",
                    "confoRules": [],
                    "faceting": {
                      "textDataFormat": "token",
                      "tokenMetric": "index",
                      "wordColor": "random",
                      "wordData": "Description"
                    },
                    "name": "wordcloud",
                    "title": "Token Cloud"
                  }
                ]
              },
              "chartMode": "grid",
              "confoRules": [],
              "decoration": {
                "footer": "",
                "subtitle": "",
                "title": "Table"
              },
              "facets": [],
              "filterSettings": {
                "SHOW_FILTER_PANEL": true,
                "filters": []
              },
              "id": "first-view",
              "isDefault": true,
              "isTransitory": true,
              "type": "public",
              "userID": ""
            }
          ]
        },
        "scrolled": false
      },
      "execution_count": null,
      "source": "# Filter the CVE data to include only the unaffiliated packages\nunaffiliated_cve_info = cve_info[cve_info['Affected_Packages'].apply(lambda x: all(pkg not in x for pkg in packages))]\n\n# Sort the data by severity and disclosure date\nsorted_unaffiliated_cve_info = unaffiliated_cve_info.sort_values(by=['Severity', 'CVE_ID'], ascending=[False, False])\n\n# Display the sorted data\nsorted_unaffiliated_cve_info",
      "outputs": []
    }
  ]
}